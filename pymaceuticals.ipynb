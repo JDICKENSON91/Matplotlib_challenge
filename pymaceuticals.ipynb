{
 "cells": [
  {
   "cell_type": "markdown",
   "metadata": {},
   "source": [
    "## Observations and Insights "
   ]
  },
  {
   "cell_type": "markdown",
   "metadata": {},
   "source": [
    "### Observation 1: Every drug regimen had 25 mice except for Stelasyn.\n",
    "### Observation 2: The heavier the mouse the bigger the tumor.\n",
    "### Observation 3: Ramicane seems to be the best performing drug out of; Infubinol, Ceftamin, Ramicane and Capomulin."
   ]
  },
  {
   "cell_type": "markdown",
   "metadata": {},
   "source": []
  },
  {
   "cell_type": "code",
   "execution_count": 1,
   "metadata": {},
   "outputs": [
    {
     "name": "stdout",
     "output_type": "stream",
     "text": [
      "<class 'pandas.core.frame.DataFrame'>\n",
      "Int64Index: 1893 entries, 0 to 1892\n",
      "Data columns (total 8 columns):\n",
      " #   Column              Non-Null Count  Dtype  \n",
      "---  ------              --------------  -----  \n",
      " 0   Mouse ID            1893 non-null   object \n",
      " 1   Drug Regimen        1893 non-null   object \n",
      " 2   Sex                 1893 non-null   object \n",
      " 3   Age_months          1893 non-null   int64  \n",
      " 4   Weight (g)          1893 non-null   int64  \n",
      " 5   Timepoint           1893 non-null   int64  \n",
      " 6   Tumor Volume (mm3)  1893 non-null   float64\n",
      " 7   Metastatic Sites    1893 non-null   int64  \n",
      "dtypes: float64(1), int64(4), object(3)\n",
      "memory usage: 133.1+ KB\n"
     ]
    }
   ],
   "source": [
    "# Dependencies and Setup\n",
    "\n",
    "import matplotlib.pyplot as plt\n",
    "import pandas as pd\n",
    "import scipy.stats as st\n",
    "import numpy as np\n",
    "from scipy.stats import linregress\n",
    "\n",
    "# Study data files\n",
    "mouse_metadata_path = \"Data/Mouse_metadata.csv\"\n",
    "study_results_path = \"Data/Study_results.csv\"\n",
    "\n",
    "# Read the mouse data and the study results\n",
    "mouse_metadata = pd.read_csv(mouse_metadata_path)\n",
    "study_results = pd.read_csv(study_results_path)\n",
    "\n",
    "# Combine the data into a single dataset\n",
    "merged_data_df = pd.merge(mouse_metadata, study_results, how=\"outer\", on=\"Mouse ID\")\n",
    "# Display the data table for preview\n",
    "merged_data_df.info()"
   ]
  },
  {
   "cell_type": "code",
   "execution_count": 2,
   "metadata": {},
   "outputs": [
    {
     "data": {
      "text/plain": [
       "1893"
      ]
     },
     "execution_count": 2,
     "metadata": {},
     "output_type": "execute_result"
    }
   ],
   "source": [
    "# Checking the number of mice.\n",
    "merged_data_df[\"Mouse ID\"].count()"
   ]
  },
  {
   "cell_type": "code",
   "execution_count": 3,
   "metadata": {},
   "outputs": [
    {
     "name": "stdout",
     "output_type": "stream",
     "text": [
      "    Mouse ID  Timepoint\n",
      "908     g989          0\n",
      "910     g989          5\n",
      "912     g989         10\n",
      "914     g989         15\n",
      "916     g989         20\n"
     ]
    }
   ],
   "source": [
    "# Getting the duplicate mice by ID number that shows up for Mouse ID and Timepoint. \n",
    "duplicate_data = pd.DataFrame(merged_data_df, columns=[\"Mouse ID\", \"Timepoint\"])\n",
    "duplicate_data_rows = duplicate_data[duplicate_data.duplicated(keep = 'last')]\n",
    "print(duplicate_data_rows)"
   ]
  },
  {
   "cell_type": "code",
   "execution_count": 4,
   "metadata": {},
   "outputs": [
    {
     "data": {
      "text/html": [
       "<div>\n",
       "<style scoped>\n",
       "    .dataframe tbody tr th:only-of-type {\n",
       "        vertical-align: middle;\n",
       "    }\n",
       "\n",
       "    .dataframe tbody tr th {\n",
       "        vertical-align: top;\n",
       "    }\n",
       "\n",
       "    .dataframe thead th {\n",
       "        text-align: right;\n",
       "    }\n",
       "</style>\n",
       "<table border=\"1\" class=\"dataframe\">\n",
       "  <thead>\n",
       "    <tr style=\"text-align: right;\">\n",
       "      <th></th>\n",
       "      <th>Mouse ID</th>\n",
       "      <th>Drug Regimen</th>\n",
       "      <th>Sex</th>\n",
       "      <th>Age_months</th>\n",
       "      <th>Weight (g)</th>\n",
       "      <th>Timepoint</th>\n",
       "      <th>Tumor Volume (mm3)</th>\n",
       "      <th>Metastatic Sites</th>\n",
       "    </tr>\n",
       "  </thead>\n",
       "  <tbody>\n",
       "    <tr>\n",
       "      <th>908</th>\n",
       "      <td>g989</td>\n",
       "      <td>Propriva</td>\n",
       "      <td>Female</td>\n",
       "      <td>21</td>\n",
       "      <td>26</td>\n",
       "      <td>0</td>\n",
       "      <td>45.000000</td>\n",
       "      <td>0</td>\n",
       "    </tr>\n",
       "    <tr>\n",
       "      <th>910</th>\n",
       "      <td>g989</td>\n",
       "      <td>Propriva</td>\n",
       "      <td>Female</td>\n",
       "      <td>21</td>\n",
       "      <td>26</td>\n",
       "      <td>5</td>\n",
       "      <td>48.786801</td>\n",
       "      <td>0</td>\n",
       "    </tr>\n",
       "    <tr>\n",
       "      <th>912</th>\n",
       "      <td>g989</td>\n",
       "      <td>Propriva</td>\n",
       "      <td>Female</td>\n",
       "      <td>21</td>\n",
       "      <td>26</td>\n",
       "      <td>10</td>\n",
       "      <td>51.745156</td>\n",
       "      <td>0</td>\n",
       "    </tr>\n",
       "    <tr>\n",
       "      <th>914</th>\n",
       "      <td>g989</td>\n",
       "      <td>Propriva</td>\n",
       "      <td>Female</td>\n",
       "      <td>21</td>\n",
       "      <td>26</td>\n",
       "      <td>15</td>\n",
       "      <td>51.325852</td>\n",
       "      <td>1</td>\n",
       "    </tr>\n",
       "    <tr>\n",
       "      <th>916</th>\n",
       "      <td>g989</td>\n",
       "      <td>Propriva</td>\n",
       "      <td>Female</td>\n",
       "      <td>21</td>\n",
       "      <td>26</td>\n",
       "      <td>20</td>\n",
       "      <td>55.326122</td>\n",
       "      <td>1</td>\n",
       "    </tr>\n",
       "  </tbody>\n",
       "</table>\n",
       "</div>"
      ],
      "text/plain": [
       "    Mouse ID Drug Regimen     Sex  Age_months  Weight (g)  Timepoint  \\\n",
       "908     g989     Propriva  Female          21          26          0   \n",
       "910     g989     Propriva  Female          21          26          5   \n",
       "912     g989     Propriva  Female          21          26         10   \n",
       "914     g989     Propriva  Female          21          26         15   \n",
       "916     g989     Propriva  Female          21          26         20   \n",
       "\n",
       "     Tumor Volume (mm3)  Metastatic Sites  \n",
       "908           45.000000                 0  \n",
       "910           48.786801                 0  \n",
       "912           51.745156                 0  \n",
       "914           51.325852                 1  \n",
       "916           55.326122                 1  "
      ]
     },
     "execution_count": 4,
     "metadata": {},
     "output_type": "execute_result"
    }
   ],
   "source": [
    "# Optional: Get all the data for the duplicate mouse ID. \n",
    "dupilcateslist = merged_data_df.loc[[908,910,912,914,916],:]\n",
    "dupilcateslist"
   ]
  },
  {
   "cell_type": "code",
   "execution_count": 5,
   "metadata": {},
   "outputs": [
    {
     "data": {
      "text/html": [
       "<div>\n",
       "<style scoped>\n",
       "    .dataframe tbody tr th:only-of-type {\n",
       "        vertical-align: middle;\n",
       "    }\n",
       "\n",
       "    .dataframe tbody tr th {\n",
       "        vertical-align: top;\n",
       "    }\n",
       "\n",
       "    .dataframe thead th {\n",
       "        text-align: right;\n",
       "    }\n",
       "</style>\n",
       "<table border=\"1\" class=\"dataframe\">\n",
       "  <thead>\n",
       "    <tr style=\"text-align: right;\">\n",
       "      <th></th>\n",
       "      <th>Mouse ID</th>\n",
       "      <th>Drug Regimen</th>\n",
       "      <th>Sex</th>\n",
       "      <th>Age_months</th>\n",
       "      <th>Weight (g)</th>\n",
       "      <th>Timepoint</th>\n",
       "      <th>Tumor Volume (mm3)</th>\n",
       "      <th>Metastatic Sites</th>\n",
       "    </tr>\n",
       "  </thead>\n",
       "  <tbody>\n",
       "    <tr>\n",
       "      <th>0</th>\n",
       "      <td>k403</td>\n",
       "      <td>Ramicane</td>\n",
       "      <td>Male</td>\n",
       "      <td>21</td>\n",
       "      <td>16</td>\n",
       "      <td>0</td>\n",
       "      <td>45.000000</td>\n",
       "      <td>0</td>\n",
       "    </tr>\n",
       "    <tr>\n",
       "      <th>1</th>\n",
       "      <td>k403</td>\n",
       "      <td>Ramicane</td>\n",
       "      <td>Male</td>\n",
       "      <td>21</td>\n",
       "      <td>16</td>\n",
       "      <td>5</td>\n",
       "      <td>38.825898</td>\n",
       "      <td>0</td>\n",
       "    </tr>\n",
       "    <tr>\n",
       "      <th>2</th>\n",
       "      <td>k403</td>\n",
       "      <td>Ramicane</td>\n",
       "      <td>Male</td>\n",
       "      <td>21</td>\n",
       "      <td>16</td>\n",
       "      <td>10</td>\n",
       "      <td>35.014271</td>\n",
       "      <td>1</td>\n",
       "    </tr>\n",
       "    <tr>\n",
       "      <th>3</th>\n",
       "      <td>k403</td>\n",
       "      <td>Ramicane</td>\n",
       "      <td>Male</td>\n",
       "      <td>21</td>\n",
       "      <td>16</td>\n",
       "      <td>15</td>\n",
       "      <td>34.223992</td>\n",
       "      <td>1</td>\n",
       "    </tr>\n",
       "    <tr>\n",
       "      <th>4</th>\n",
       "      <td>k403</td>\n",
       "      <td>Ramicane</td>\n",
       "      <td>Male</td>\n",
       "      <td>21</td>\n",
       "      <td>16</td>\n",
       "      <td>20</td>\n",
       "      <td>32.997729</td>\n",
       "      <td>1</td>\n",
       "    </tr>\n",
       "  </tbody>\n",
       "</table>\n",
       "</div>"
      ],
      "text/plain": [
       "  Mouse ID Drug Regimen   Sex  Age_months  Weight (g)  Timepoint  \\\n",
       "0     k403     Ramicane  Male          21          16          0   \n",
       "1     k403     Ramicane  Male          21          16          5   \n",
       "2     k403     Ramicane  Male          21          16         10   \n",
       "3     k403     Ramicane  Male          21          16         15   \n",
       "4     k403     Ramicane  Male          21          16         20   \n",
       "\n",
       "   Tumor Volume (mm3)  Metastatic Sites  \n",
       "0           45.000000                 0  \n",
       "1           38.825898                 0  \n",
       "2           35.014271                 1  \n",
       "3           34.223992                 1  \n",
       "4           32.997729                 1  "
      ]
     },
     "execution_count": 5,
     "metadata": {},
     "output_type": "execute_result"
    }
   ],
   "source": [
    "# Create a clean DataFrame by dropping the duplicate mouse by its ID.\n",
    "cleaned_list = merged_data_df.drop([908,910,912,914,916], axis=0)\n",
    "cleaned_list.head()"
   ]
  },
  {
   "cell_type": "code",
   "execution_count": 6,
   "metadata": {},
   "outputs": [
    {
     "data": {
      "text/plain": [
       "1888"
      ]
     },
     "execution_count": 6,
     "metadata": {},
     "output_type": "execute_result"
    }
   ],
   "source": [
    "# Checking the number of mice in the clean DataFrame.\n",
    "cleaned_list[\"Mouse ID\"].count()"
   ]
  },
  {
   "cell_type": "markdown",
   "metadata": {},
   "source": [
    "## Summary Statistics"
   ]
  },
  {
   "cell_type": "code",
   "execution_count": 7,
   "metadata": {},
   "outputs": [
    {
     "data": {
      "text/html": [
       "<div>\n",
       "<style scoped>\n",
       "    .dataframe tbody tr th:only-of-type {\n",
       "        vertical-align: middle;\n",
       "    }\n",
       "\n",
       "    .dataframe tbody tr th {\n",
       "        vertical-align: top;\n",
       "    }\n",
       "\n",
       "    .dataframe thead th {\n",
       "        text-align: right;\n",
       "    }\n",
       "</style>\n",
       "<table border=\"1\" class=\"dataframe\">\n",
       "  <thead>\n",
       "    <tr style=\"text-align: right;\">\n",
       "      <th></th>\n",
       "      <th>Mean</th>\n",
       "      <th>Median</th>\n",
       "      <th>Variance</th>\n",
       "      <th>Std Dev</th>\n",
       "      <th>SEM</th>\n",
       "    </tr>\n",
       "    <tr>\n",
       "      <th>Drug Regimen</th>\n",
       "      <th></th>\n",
       "      <th></th>\n",
       "      <th></th>\n",
       "      <th></th>\n",
       "      <th></th>\n",
       "    </tr>\n",
       "  </thead>\n",
       "  <tbody>\n",
       "    <tr>\n",
       "      <th>Capomulin</th>\n",
       "      <td>40.68</td>\n",
       "      <td>41.56</td>\n",
       "      <td>24.95</td>\n",
       "      <td>4.99</td>\n",
       "      <td>0.33</td>\n",
       "    </tr>\n",
       "    <tr>\n",
       "      <th>Ceftamin</th>\n",
       "      <td>52.59</td>\n",
       "      <td>51.78</td>\n",
       "      <td>39.29</td>\n",
       "      <td>6.27</td>\n",
       "      <td>0.47</td>\n",
       "    </tr>\n",
       "    <tr>\n",
       "      <th>Infubinol</th>\n",
       "      <td>52.88</td>\n",
       "      <td>51.82</td>\n",
       "      <td>43.13</td>\n",
       "      <td>6.57</td>\n",
       "      <td>0.49</td>\n",
       "    </tr>\n",
       "    <tr>\n",
       "      <th>Ketapril</th>\n",
       "      <td>55.24</td>\n",
       "      <td>53.70</td>\n",
       "      <td>68.55</td>\n",
       "      <td>8.28</td>\n",
       "      <td>0.60</td>\n",
       "    </tr>\n",
       "    <tr>\n",
       "      <th>Naftisol</th>\n",
       "      <td>54.33</td>\n",
       "      <td>52.51</td>\n",
       "      <td>66.17</td>\n",
       "      <td>8.13</td>\n",
       "      <td>0.60</td>\n",
       "    </tr>\n",
       "    <tr>\n",
       "      <th>Placebo</th>\n",
       "      <td>54.03</td>\n",
       "      <td>52.29</td>\n",
       "      <td>61.17</td>\n",
       "      <td>7.82</td>\n",
       "      <td>0.58</td>\n",
       "    </tr>\n",
       "    <tr>\n",
       "      <th>Propriva</th>\n",
       "      <td>52.38</td>\n",
       "      <td>50.78</td>\n",
       "      <td>43.22</td>\n",
       "      <td>6.57</td>\n",
       "      <td>0.53</td>\n",
       "    </tr>\n",
       "    <tr>\n",
       "      <th>Ramicane</th>\n",
       "      <td>40.22</td>\n",
       "      <td>40.67</td>\n",
       "      <td>23.49</td>\n",
       "      <td>4.85</td>\n",
       "      <td>0.32</td>\n",
       "    </tr>\n",
       "    <tr>\n",
       "      <th>Stelasyn</th>\n",
       "      <td>54.23</td>\n",
       "      <td>52.43</td>\n",
       "      <td>59.45</td>\n",
       "      <td>7.71</td>\n",
       "      <td>0.57</td>\n",
       "    </tr>\n",
       "    <tr>\n",
       "      <th>Zoniferol</th>\n",
       "      <td>53.24</td>\n",
       "      <td>51.82</td>\n",
       "      <td>48.53</td>\n",
       "      <td>6.97</td>\n",
       "      <td>0.52</td>\n",
       "    </tr>\n",
       "  </tbody>\n",
       "</table>\n",
       "</div>"
      ],
      "text/plain": [
       "               Mean  Median  Variance  Std Dev   SEM\n",
       "Drug Regimen                                        \n",
       "Capomulin     40.68   41.56     24.95     4.99  0.33\n",
       "Ceftamin      52.59   51.78     39.29     6.27  0.47\n",
       "Infubinol     52.88   51.82     43.13     6.57  0.49\n",
       "Ketapril      55.24   53.70     68.55     8.28  0.60\n",
       "Naftisol      54.33   52.51     66.17     8.13  0.60\n",
       "Placebo       54.03   52.29     61.17     7.82  0.58\n",
       "Propriva      52.38   50.78     43.22     6.57  0.53\n",
       "Ramicane      40.22   40.67     23.49     4.85  0.32\n",
       "Stelasyn      54.23   52.43     59.45     7.71  0.57\n",
       "Zoniferol     53.24   51.82     48.53     6.97  0.52"
      ]
     },
     "execution_count": 7,
     "metadata": {},
     "output_type": "execute_result"
    }
   ],
   "source": [
    "# Generate a summary statistics table of mean, median, variance, standard deviation, and SEM of the tumor volume for each regimen\n",
    "#Grouby Drug Regimen\n",
    "Grouped_clean_list = (cleaned_list.groupby(['Drug Regimen']))\n",
    "\n",
    "grouped_regimen_mean = round(pd.DataFrame((cleaned_list.groupby(['Drug Regimen']).mean())),2)\n",
    "grouped_regimen_mean = grouped_regimen_mean.drop([\"Age_months\",\"Weight (g)\",\"Timepoint\",\"Metastatic Sites\"], axis=1)\n",
    "grouped_regimen_mean = grouped_regimen_mean.rename(columns = {\"Tumor Volume (mm3)\":\"Mean\"})\n",
    "\n",
    "grouped_regimen_median = round(pd.DataFrame((cleaned_list.groupby(['Drug Regimen']).median())),2)\n",
    "grouped_regimen_median = grouped_regimen_median.drop([\"Age_months\",\"Weight (g)\",\"Timepoint\",\"Metastatic Sites\"], axis=1)\n",
    "grouped_regimen_median = grouped_regimen_median.rename(columns = {\"Tumor Volume (mm3)\":\"Median\"})\n",
    "\n",
    "Summary_Statistics = pd.merge(grouped_regimen_mean, grouped_regimen_median, how=\"left\", on=\"Drug Regimen\")\n",
    "\n",
    "\n",
    "grouped_regimen_variance = round(pd.DataFrame(cleaned_list.groupby(['Drug Regimen']).var()),2)\n",
    "grouped_regimen_variance = grouped_regimen_variance.drop([\"Age_months\",\"Weight (g)\",\"Timepoint\",\"Metastatic Sites\"], axis=1)\n",
    "grouped_regimen_variance = grouped_regimen_variance.rename(columns = {\"Tumor Volume (mm3)\":\"Variance\"})\n",
    "Summary_Statistics = pd.merge(Summary_Statistics, grouped_regimen_variance, how=\"left\", on=\"Drug Regimen\")\n",
    "\n",
    "grouped_regimen_stddev = round(pd.DataFrame(cleaned_list.groupby(['Drug Regimen']).std()),2)\n",
    "grouped_regimen_stddev = grouped_regimen_stddev.drop([\"Age_months\",\"Weight (g)\",\"Timepoint\",\"Metastatic Sites\"], axis=1)\n",
    "grouped_regimen_stddev = grouped_regimen_stddev.rename(columns = {\"Tumor Volume (mm3)\":\"Std Dev\"})\n",
    "Summary_Statistics = pd.merge(Summary_Statistics, grouped_regimen_stddev, how=\"left\", on=\"Drug Regimen\")\n",
    "\n",
    "grouped_regimen_sem = round(pd.DataFrame(cleaned_list.groupby(['Drug Regimen']).sem()),2)\n",
    "grouped_regimen_sem = grouped_regimen_sem.drop([\"Age_months\",\"Weight (g)\",\"Timepoint\",\"Metastatic Sites\",\"Mouse ID\",\"Sex\"], axis=1)\n",
    "grouped_regimen_sem = grouped_regimen_sem.rename(columns = {\"Tumor Volume (mm3)\":\"SEM\"})\n",
    "Summary_Statistics = pd.merge(Summary_Statistics, grouped_regimen_sem, how=\"left\", on=\"Drug Regimen\")\n",
    "# This method is the most straighforward, creating multiple series and putting them all together at the end.\n",
    "Summary_Statistics\n"
   ]
  },
  {
   "cell_type": "code",
   "execution_count": 8,
   "metadata": {},
   "outputs": [],
   "source": [
    "# Generate a summary statistics table of mean, median, variance, standard deviation, and SEM of the tumor volume for each regimen\n",
    "\n",
    "# This method produces everything in a single groupby function\n"
   ]
  },
  {
   "cell_type": "markdown",
   "metadata": {},
   "source": [
    "## Bar and Pie Charts"
   ]
  },
  {
   "cell_type": "code",
   "execution_count": 9,
   "metadata": {},
   "outputs": [
    {
     "data": {
      "text/html": [
       "<div>\n",
       "<style scoped>\n",
       "    .dataframe tbody tr th:only-of-type {\n",
       "        vertical-align: middle;\n",
       "    }\n",
       "\n",
       "    .dataframe tbody tr th {\n",
       "        vertical-align: top;\n",
       "    }\n",
       "\n",
       "    .dataframe thead th {\n",
       "        text-align: right;\n",
       "    }\n",
       "</style>\n",
       "<table border=\"1\" class=\"dataframe\">\n",
       "  <thead>\n",
       "    <tr style=\"text-align: right;\">\n",
       "      <th></th>\n",
       "      <th>Mouse Count</th>\n",
       "    </tr>\n",
       "    <tr>\n",
       "      <th>Drug Regimen</th>\n",
       "      <th></th>\n",
       "    </tr>\n",
       "  </thead>\n",
       "  <tbody>\n",
       "    <tr>\n",
       "      <th>Capomulin</th>\n",
       "      <td>25</td>\n",
       "    </tr>\n",
       "    <tr>\n",
       "      <th>Ceftamin</th>\n",
       "      <td>25</td>\n",
       "    </tr>\n",
       "    <tr>\n",
       "      <th>Infubinol</th>\n",
       "      <td>25</td>\n",
       "    </tr>\n",
       "    <tr>\n",
       "      <th>Ketapril</th>\n",
       "      <td>25</td>\n",
       "    </tr>\n",
       "    <tr>\n",
       "      <th>Naftisol</th>\n",
       "      <td>25</td>\n",
       "    </tr>\n",
       "    <tr>\n",
       "      <th>Placebo</th>\n",
       "      <td>25</td>\n",
       "    </tr>\n",
       "    <tr>\n",
       "      <th>Propriva</th>\n",
       "      <td>25</td>\n",
       "    </tr>\n",
       "    <tr>\n",
       "      <th>Ramicane</th>\n",
       "      <td>25</td>\n",
       "    </tr>\n",
       "    <tr>\n",
       "      <th>Stelasyn</th>\n",
       "      <td>24</td>\n",
       "    </tr>\n",
       "    <tr>\n",
       "      <th>Zoniferol</th>\n",
       "      <td>25</td>\n",
       "    </tr>\n",
       "  </tbody>\n",
       "</table>\n",
       "</div>"
      ],
      "text/plain": [
       "              Mouse Count\n",
       "Drug Regimen             \n",
       "Capomulin              25\n",
       "Ceftamin               25\n",
       "Infubinol              25\n",
       "Ketapril               25\n",
       "Naftisol               25\n",
       "Placebo                25\n",
       "Propriva               25\n",
       "Ramicane               25\n",
       "Stelasyn               24\n",
       "Zoniferol              25"
      ]
     },
     "execution_count": 9,
     "metadata": {},
     "output_type": "execute_result"
    },
    {
     "data": {
      "image/png": "[encoded data removed]",
      "text/plain": [
       "<Figure size 432x288 with 1 Axes>"
      ]
     },
     "metadata": {
      "needs_background": "light"
     },
     "output_type": "display_data"
    }
   ],
   "source": [
    "# Generate a bar plot showing the total number of mice for each treatment throughout the course of the study using pandas. \n",
    "mouse_count = pd.DataFrame(cleaned_list.groupby(['Drug Regimen']).nunique())\n",
    "mouse_count = mouse_count.drop([\"Age_months\",\"Weight (g)\",\"Timepoint\",\"Metastatic Sites\",\"Tumor Volume (mm3)\",\"Sex\",\"Drug Regimen\"], axis=1)\n",
    "mouse_count = mouse_count.rename(columns = {\"Mouse ID\":\"Mouse Count\"})\n",
    "mouse_count_plot = mouse_count.plot(kind=\"bar\",facecolor=\"blue\")\n",
    "plt.title(\"Mice per Drug Regimen\")\n",
    "plt.ylim(0,30)\n",
    "plt.xlabel(\"Regimens\")\n",
    "plt.ylabel(\"Number of Mice\")\n",
    "plt.tight_layout()\n",
    "mouse_count_plot;\n",
    "mouse_count"
   ]
  },
  {
   "cell_type": "code",
   "execution_count": 10,
   "metadata": {},
   "outputs": [
    {
     "data": {
      "image/png": "[encoded data removed]",
      "text/plain": [
       "<Figure size 432x288 with 1 Axes>"
      ]
     },
     "metadata": {
      "needs_background": "light"
     },
     "output_type": "display_data"
    }
   ],
   "source": [
    "# Generate a bar plot showing the total number of mice for each treatment throughout the course of the study using pyplot.\n",
    "\n",
    "count_bar = cleaned_list.groupby(['Drug Regimen'])\n",
    "count_bar = count_bar.agg({'Mouse ID':\"nunique\"})\n",
    "count_bar\n",
    "\n",
    "\n",
    "\n",
    "plt.bar(count_bar.index.values,count_bar[\"Mouse ID\"],color='blue', alpha=1, align=\"center\",width =0.5, label = \"Mouse Count\")\n",
    "plt.title(\"Mice per Drug Regimen\")\n",
    "plt.xlabel(\"Regimens\")\n",
    "plt.ylabel(\"Number of Mice\")\n",
    "plt.ylim(0,30)\n",
    "plt.xticks(rotation=\"vertical\")\n",
    "plt.legend(loc=\"best\")\n",
    "plt.tight_layout()\n",
    "plt.bar;\n",
    "#count_bar"
   ]
  },
  {
   "cell_type": "code",
   "execution_count": 11,
   "metadata": {},
   "outputs": [
    {
     "data": {
      "text/plain": [
       "<matplotlib.axes._subplots.AxesSubplot at 0x21b3cfd3708>"
      ]
     },
     "execution_count": 11,
     "metadata": {},
     "output_type": "execute_result"
    },
    {
     "data": {
      "image/png": "[encoded data removed]",
      "text/plain": [
       "<Figure size 432x288 with 1 Axes>"
      ]
     },
     "metadata": {},
     "output_type": "display_data"
    }
   ],
   "source": [
    "# Generate a pie plot showing the distribution of female versus male mice using pandas\n",
    "sex_count = pd.DataFrame(cleaned_list.groupby(['Sex']).count())\n",
    "sex_count = sex_count.drop([\"Age_months\",\"Weight (g)\",\"Timepoint\",\"Metastatic Sites\",\"Tumor Volume (mm3)\",\"Drug Regimen\"], axis=1)\n",
    "#sex_count = pd.DataFrame(sex_count.reset_index())\n",
    "sex_count\n",
    "sex_count_pie = sex_count.plot.pie(y='Mouse ID',autopct='%1.1f%%')\n",
    "plt.title(\"Sex of Mice\")\n",
    "plt.tight_layout()\n",
    "plt.axis('equal')\n",
    "sex_count_pie"
   ]
  },
  {
   "cell_type": "code",
   "execution_count": 12,
   "metadata": {},
   "outputs": [
    {
     "data": {
      "image/png": "[encoded data removed]",
      "text/plain": [
       "<Figure size 432x288 with 1 Axes>"
      ]
     },
     "metadata": {},
     "output_type": "display_data"
    }
   ],
   "source": [
    "# Generate a pie plot showing the distribution of female versus male mice using pyplot\n",
    "\n",
    "sex_count_py = cleaned_list.groupby(['Sex']).count()\n",
    "sex_count_py\n",
    "\n",
    "# Labels for the sections of our pie chart\n",
    "labels = sex_count_py.index.values\n",
    "\n",
    "# The values of each section of the pie chart\n",
    "sizes = sex_count_py[\"Mouse ID\"]\n",
    "\n",
    "# The colors of each section of the pie chart\n",
    "colors = [\"blue\", \"DarkOrange\"]\n",
    "\n",
    "plt.pie(sizes, labels=labels, colors=colors,\n",
    "        autopct=\"%1.1f%%\", startangle=0);\n",
    "\n",
    "plt.title(\"Sex of Mice\")\n",
    "plt.legend(loc=\"best\")\n",
    "plt.axis('equal')\n",
    "plt.tight_layout()\n"
   ]
  },
  {
   "cell_type": "markdown",
   "metadata": {},
   "source": [
    "## Quartiles, Outliers and Boxplots"
   ]
  },
  {
   "cell_type": "code",
   "execution_count": 13,
   "metadata": {},
   "outputs": [
    {
     "data": {
      "text/plain": [
       "Propriva     25\n",
       "Infubinol    25\n",
       "Placebo      25\n",
       "Zoniferol    25\n",
       "Ceftamin     25\n",
       "Ketapril     25\n",
       "Naftisol     25\n",
       "Capomulin    25\n",
       "Ramicane     25\n",
       "Stelasyn     24\n",
       "Name: Drug Regimen, dtype: int64"
      ]
     },
     "execution_count": 13,
     "metadata": {},
     "output_type": "execute_result"
    }
   ],
   "source": [
    "# Calculate the final tumor volume of each mouse across four of the treatment regimens:  \n",
    "# Capomulin, Ramicane, Infubinol, and Ceftamin\n",
    "\n",
    "# Start by getting the last (greatest) timepoint for each mouse\n",
    "Tumor_total = cleaned_list.groupby(\"Mouse ID\").max()\n",
    "Tumor_total = Tumor_total.drop([\"Age_months\",\"Weight (g)\",\"Metastatic Sites\",\"Tumor Volume (mm3)\",\"Sex\",\"Drug Regimen\"], axis=1)\n",
    "#Tumor_total = Tumor_total.rename(columns = {\"Timepoint\":\"Max Timepoint\"})\n",
    "Tumor_total\n",
    "# Merge this group df with the original dataframe to get the tumor volume at the last timepoint\n",
    "merged_tumor_total = pd.merge(Tumor_total, cleaned_list, how=\"left\", on=[\"Mouse ID\",\"Timepoint\"])\n",
    "merged_tumor_total_final = merged_tumor_total.dropna()\n",
    "merged_tumor_total_final[\"Drug Regimen\"].value_counts()"
   ]
  },
  {
   "cell_type": "code",
   "execution_count": 14,
   "metadata": {},
   "outputs": [
    {
     "name": "stdout",
     "output_type": "stream",
     "text": [
      "The lower quartile is: 45.93\n",
      "The upper quartile is: 64.96\n",
      "The interquartile range is: 19.03\n",
      "The the median is: 55.84 \n",
      "Values below 17.38 could be outliers.\n",
      "Values above 93.5 could be outliers.\n"
     ]
    }
   ],
   "source": [
    "# Put treatments into a list for for loop (and later for plot labels)\n",
    "treatments = merged_tumor_total_final[\"Drug Regimen\"]\n",
    "\n",
    "\n",
    "# Create empty list to fill with tumor vol data (for plotting)\n",
    "tumorvol =[]\n",
    "\n",
    "# Calculate the IQR and quantitatively determine if there are any potential outliers. \n",
    "tvolume = merged_tumor_total_final[\"Tumor Volume (mm3)\"]\n",
    "quartiles = tvolume.quantile([.25,.5,.75])\n",
    "lowerq = round(quartiles[0.25],2)\n",
    "upperq = round(quartiles[0.75],2)\n",
    "iqr = round(upperq-lowerq,2)\n",
    "\n",
    "print(f\"The lower quartile is: {lowerq}\")\n",
    "print(f\"The upper quartile is: {upperq}\")\n",
    "print(f\"The interquartile range is: {iqr}\")\n",
    "print(f\"The the median is: {round(quartiles[0.5],2)} \")\n",
    "    \n",
    "    # Locate the rows which contain mice on each drug and get the tumor volumes\n",
    "includedtreatments = merged_tumor_total_final.drop([\"Timepoint\",\"Weight (g)\",\"Sex\",\"Metastatic Sites\",\"Age_months\"], axis=1)\n",
    "includedtreatments  = includedtreatments.set_index(\"Drug Regimen\")\n",
    "includedtreatments = includedtreatments.drop([\"Ketapril\",\"Naftisol\",\"Placebo\",\"Propriva\",\"Zoniferol\",\"Stelasyn\"], axis=0)                                          \n",
    "\n",
    "            \n",
    "        \n",
    "    \n",
    "    # add subset \n",
    "    \n",
    "    \n",
    "    # Determine outliers using upper and lower bounds\n",
    "lower_bound = lowerq - (1.5*iqr)\n",
    "upper_bound = upperq + (1.5*iqr)\n",
    "print(f\"Values below {round(lower_bound,2)} could be outliers.\")\n",
    "print(f\"Values above {round(upper_bound,2)} could be outliers.\")    "
   ]
  },
  {
   "cell_type": "code",
   "execution_count": 15,
   "metadata": {},
   "outputs": [
    {
     "data": {
      "image/png": "[encoded data removed]",
      "text/plain": [
       "<Figure size 432x288 with 1 Axes>"
      ]
     },
     "metadata": {
      "needs_background": "light"
     },
     "output_type": "display_data"
    }
   ],
   "source": [
    "# Generate a box plot of the final tumor volume of each mouse across four regimens of interest\n",
    "includedtreatments_infubinol = includedtreatments.drop([\"Ceftamin\",\"Ramicane\",\"Capomulin\"], axis=0)\n",
    "tumor_volumes_infubinol = includedtreatments_infubinol[\"Tumor Volume (mm3)\"]\n",
    "\n",
    "\n",
    "includedtreatments_Ceftamin = includedtreatments.drop([\"Infubinol\",\"Ramicane\",\"Capomulin\"], axis=0)\n",
    "tumor_volumes_Ceftamin = includedtreatments_Ceftamin[\"Tumor Volume (mm3)\"]\n",
    "\n",
    "\n",
    "includedtreatments_Ramicane = includedtreatments.drop([\"Infubinol\",\"Capomulin\",\"Ceftamin\"], axis=0)\n",
    "tumor_volumes_Ramicane = includedtreatments_Ramicane[\"Tumor Volume (mm3)\"]\n",
    "\n",
    "\n",
    "includedtreatments_Capomulin = includedtreatments.drop([\"Infubinol\",\"Ramicane\",\"Ceftamin\"], axis=0)\n",
    "tumor_volumes_Capomulin = includedtreatments_Capomulin[\"Tumor Volume (mm3)\"]\n",
    "\n",
    "\n",
    "dataplots = [tumor_volumes_Capomulin,tumor_volumes_Ramicane,tumor_volumes_Ceftamin,tumor_volumes_infubinol]\n",
    "fig, axs = plt.subplots()\n",
    "plt.title(\"Final Tumor Volume per Regimen\")\n",
    "plt.xlabel(\"Regimen\")\n",
    "plt.ylabel(\"Tumor volume (mm3)\")\n",
    "plt.xticks(rotation=45)\n",
    "plt.ylim(20,80)\n",
    "axs.boxplot(dataplots);\n",
    "custom_markers = dict(markerfacecolor='b', marker='s')\n",
    "axs.boxplot(dataplots, flierprops=custom_markers)\n",
    "plt.xticks([1, 2, 3, 4], ['Capomulin', 'Ramicane', \"Ceftamin\",\"infubinol\"])\n",
    "plt.tight_layout()"
   ]
  },
  {
   "cell_type": "markdown",
   "metadata": {},
   "source": [
    "## Line and Scatter Plots"
   ]
  },
  {
   "cell_type": "code",
   "execution_count": 16,
   "metadata": {},
   "outputs": [
    {
     "data": {
      "image/png": "[encoded data removed]",
      "text/plain": [
       "<Figure size 432x288 with 1 Axes>"
      ]
     },
     "metadata": {
      "needs_background": "light"
     },
     "output_type": "display_data"
    }
   ],
   "source": [
    "# Generate a line plot of time point versus tumor volume for a mouse treated with Capomulin\n",
    "\n",
    "#Find a mouse treated with Capomulin\n",
    "merged_tumor_total_final\n",
    "Capomulin_mouse = merged_tumor_total_final.set_index(\"Drug Regimen\")\n",
    "Capomulin_mouse = Capomulin_mouse.loc[\"Capomulin\", \"Mouse ID\"]\n",
    "Capomulin_mouse\n",
    "\n",
    "#Picked b128\n",
    "\n",
    "Capomulin_mouse = cleaned_list.set_index(\"Mouse ID\")\n",
    "Capomulin_mouse = pd.DataFrame(Capomulin_mouse.loc[\"b128\", [\"Timepoint\",\"Tumor Volume (mm3)\"]])\n",
    "Capomulin_mouse_x_axis = Capomulin_mouse[\"Timepoint\"]\n",
    "Capomulin_mouse_volumes = Capomulin_mouse[\"Tumor Volume (mm3)\"]\n",
    "plt.plot(Capomulin_mouse_x_axis, Capomulin_mouse_volumes, label=\"Mouse b128\");\n",
    "plt.title(\"Tumor Volume over Time\")\n",
    "plt.xlabel(\"Timepoints\")\n",
    "plt.ylabel(\"Tumor volume (mm3)\")\n",
    "plt.legend(loc=\"lower left\")\n",
    "plt.ylim(0,50)\n",
    "plt.xlim(0,45)\n",
    "plt.tight_layout()\n",
    "\n",
    "\n"
   ]
  },
  {
   "cell_type": "code",
   "execution_count": 17,
   "metadata": {},
   "outputs": [
    {
     "data": {
      "image/png": "[encoded data removed]",
      "text/plain": [
       "<Figure size 432x288 with 1 Axes>"
      ]
     },
     "metadata": {
      "needs_background": "light"
     },
     "output_type": "display_data"
    }
   ],
   "source": [
    "# Generate a scatter plot of mouse weight versus average tumor volume for the Capomulin regimen\n",
    "\n",
    "\n",
    "#list of average tumor weights\n",
    "list_of_Weights = pd.DataFrame(cleaned_list.groupby(\"Mouse ID\").mean())\n",
    "list_of_Weights= list_of_Weights.drop([\"Timepoint\",\"Metastatic Sites\",\"Age_months\", \"Weight (g)\"], axis=1)\n",
    "\n",
    "#list of Capomulin Mice\n",
    "Capomulin_mice = merged_tumor_total_final.set_index(\"Drug Regimen\")\n",
    "Capomulin_mice = Capomulin_mice.drop([\"Timepoint\",\"Sex\",\"Age_months\", \"Tumor Volume (mm3)\",\"Metastatic Sites\"], axis=1)\n",
    "Capomulin_mice = Capomulin_mice.drop([\"Ketapril\",\"Naftisol\",\"Placebo\",\"Propriva\",\"Zoniferol\",\"Stelasyn\",\"Infubinol\",\"Ramicane\",\"Ceftamin\"], axis=0)\n",
    "Capomulin_mice = Capomulin_mice.reset_index(drop = True)\n",
    "\n",
    "scatter_df = pd.merge(Capomulin_mice, list_of_Weights, how=\"left\", on=\"Mouse ID\")\n",
    "\n",
    "data_1_scatter = round(scatter_df[\"Tumor Volume (mm3)\"],2)\n",
    "data_2_scatter = scatter_df[\"Weight (g)\"]\n",
    "\n",
    "plt.scatter(data_2_scatter, data_1_scatter, marker=\"*\", facecolors=\"green\", edgecolors=\"black\", alpha=0.75,s=50)\n",
    "plt.title(\"Size of Tumors vs Mouse Weight\")\n",
    "plt.xlabel(\"Weight (g)\")\n",
    "plt.ylabel(\"Tumor volume (mm3)\");\n",
    "#plt.ylim(15,50)\n",
    "#plt.xlim(15,30)\n",
    "#scatter_df\n",
    "plt.tight_layout()\n",
    "#scatter_df"
   ]
  },
  {
   "cell_type": "markdown",
   "metadata": {},
   "source": [
    "## Correlation and Regression"
   ]
  },
  {
   "cell_type": "code",
   "execution_count": 18,
   "metadata": {},
   "outputs": [
    {
     "name": "stdout",
     "output_type": "stream",
     "text": [
      "The correlation between both factors is 0.84\n"
     ]
    }
   ],
   "source": [
    "# Calculate the correlation coefficient and linear regression model\n",
    "# for mouse weight and average tumor volume for the Capomulin regimen\n",
    "scatter_df\n",
    "Weightg = scatter_df.iloc[:,1]\n",
    "Tvolume = scatter_df.iloc[:,2]\n",
    "correlation = st.pearsonr(Weightg,Tvolume)\n",
    "print(f\"The correlation between both factors is {round(correlation[0],2)}\")\n",
    "\n",
    "\n"
   ]
  },
  {
   "cell_type": "code",
   "execution_count": 19,
   "metadata": {},
   "outputs": [
    {
     "data": {
      "image/png": "[encoded data removed]",
      "text/plain": [
       "<Figure size 432x288 with 1 Axes>"
      ]
     },
     "metadata": {
      "needs_background": "light"
     },
     "output_type": "display_data"
    }
   ],
   "source": [
    "#list of average tumor weights\n",
    "list_of_Weights = pd.DataFrame(cleaned_list.groupby(\"Mouse ID\").mean())\n",
    "list_of_Weights= list_of_Weights.drop([\"Timepoint\",\"Metastatic Sites\",\"Age_months\", \"Weight (g)\"], axis=1)\n",
    "\n",
    "#list of Capomulin Mice\n",
    "Capomulin_mice = merged_tumor_total_final.set_index(\"Drug Regimen\")\n",
    "Capomulin_mice = Capomulin_mice.drop([\"Timepoint\",\"Sex\",\"Age_months\", \"Tumor Volume (mm3)\",\"Metastatic Sites\"], axis=1)\n",
    "Capomulin_mice = Capomulin_mice.drop([\"Ketapril\",\"Naftisol\",\"Placebo\",\"Propriva\",\"Zoniferol\",\"Stelasyn\",\"Infubinol\",\"Ramicane\",\"Ceftamin\"], axis=0)\n",
    "Capomulin_mice = Capomulin_mice.reset_index(drop = True)\n",
    "\n",
    "scatter_df = pd.merge(Capomulin_mice, list_of_Weights, how=\"left\", on=\"Mouse ID\")\n",
    "\n",
    "x_values = round(scatter_df[\"Tumor Volume (mm3)\"],2)\n",
    "y_values = scatter_df[\"Weight (g)\"]\n",
    "(slope, intercept, rvalue, pvalue, stderr) = linregress(x_values, y_values)\n",
    "regress_values = x_values * slope + intercept\n",
    "line_eq = \"y = \" + str(round(slope,2)) + \"x + \" + str(round(intercept,2))\n",
    "\n",
    "\n",
    "plt.scatter(x_values, y_values, marker=\"*\", facecolors=\"green\", edgecolors=\"black\", alpha=0.75)\n",
    "plt.plot(x_values,regress_values,\"r-\")\n",
    "plt.annotate(line_eq,(41,16),fontsize=15,color=\"red\")\n",
    "plt.title(\"Size of Tumors vs Mouse Weight\")\n",
    "plt.xlabel(\"Weight (g)\")\n",
    "plt.ylabel(\"Tumor volume (mm3)\");\n",
    "#plt.ylim(15,50)\n",
    "#plt.xlim(15,30)\n",
    "#scatter_df\n",
    "plt.tight_layout()"
   ]
  },
  {
   "cell_type": "code",
   "execution_count": null,
   "metadata": {},
   "outputs": [],
   "source": []
  }
 ],
 "metadata": {
  "anaconda-cloud": {},
  "kernelspec": {
   "display_name": "Python 3",
   "language": "python",
   "name": "python3"
  },
  "language_info": {
   "codemirror_mode": {
    "name": "ipython",
    "version": 3
   },
   "file_extension": ".py",
   "mimetype": "text/x-python",
   "name": "python",
   "nbconvert_exporter": "python",
   "pygments_lexer": "ipython3",
   "version": "3.7.6"
  }
 },
 "nbformat": 4,
 "nbformat_minor": 4
}
